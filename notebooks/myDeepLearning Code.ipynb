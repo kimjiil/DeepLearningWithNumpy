{
 "cells": [
  {
   "cell_type": "code",
   "execution_count": 1,
   "id": "4d708a72",
   "metadata": {},
   "outputs": [
    {
     "name": "stdout",
     "output_type": "stream",
     "text": [
      "/home/kji/workspace/jupyter_kji/DeepLearningWithNumpy\r\n"
     ]
    }
   ],
   "source": [
    "!pwd"
   ]
  },
  {
   "cell_type": "code",
   "execution_count": 2,
   "id": "156dcfe1",
   "metadata": {},
   "outputs": [
    {
     "name": "stdout",
     "output_type": "stream",
     "text": [
      "fatal: 대상 경로가('DeepLearningWithNumpy') 이미 있고 빈 디렉터리가 아닙니다.\r\n"
     ]
    }
   ],
   "source": [
    "!git clone https://github.com/kimjiil/DeepLearningWithNumpy.git"
   ]
  },
  {
   "cell_type": "code",
   "execution_count": 3,
   "id": "9baeab53",
   "metadata": {},
   "outputs": [
    {
     "name": "stdout",
     "output_type": "stream",
     "text": [
      " DeepLearningWithNumpy\t'myDeepLearning Code.ipynb'\r\n"
     ]
    }
   ],
   "source": [
    "!ls"
   ]
  },
  {
   "cell_type": "code",
   "execution_count": 4,
   "id": "0a479b21",
   "metadata": {},
   "outputs": [
    {
     "name": "stdout",
     "output_type": "stream",
     "text": [
      "/home/kji/workspace/jupyter_kji/DeepLearningWithNumpy/DeepLearningWithNumpy\n"
     ]
    }
   ],
   "source": [
    "%cd DeepLearningWithNumpy/"
   ]
  },
  {
   "cell_type": "code",
   "execution_count": 5,
   "id": "ecb297fd",
   "metadata": {},
   "outputs": [
    {
     "name": "stdout",
     "output_type": "stream",
     "text": [
      "/home/kji/workspace/jupyter_kji/DeepLearningWithNumpy/DeepLearningWithNumpy\r\n"
     ]
    }
   ],
   "source": [
    "!pwd"
   ]
  },
  {
   "cell_type": "code",
   "execution_count": null,
   "id": "c31dd7fd",
   "metadata": {},
   "outputs": [],
   "source": [
    "!conda install -c conda-forge cupy -y"
   ]
  },
  {
   "cell_type": "code",
   "execution_count": 6,
   "id": "05bbe51d",
   "metadata": {},
   "outputs": [],
   "source": [
    "from myLib.Module import myModule, mySequential, myTensor\n",
    "from myLib.Layer import *\n",
    "from myLib.LossFunc import *\n",
    "from myLib.Optimizer import *\n",
    "import myLib\n",
    "\n",
    "from torchvision.datasets import MNIST\n",
    "import numpy as np\n",
    "import cupy as cp"
   ]
  },
  {
   "cell_type": "markdown",
   "id": "eed9573c",
   "metadata": {},
   "source": [
    "## SImple CNN Model"
   ]
  },
  {
   "cell_type": "code",
   "execution_count": 7,
   "id": "f4b6ed74",
   "metadata": {},
   "outputs": [],
   "source": [
    "class my_model(myModule):\n",
    "    def __init__(self):\n",
    "        super(my_model, self).__init__()\n",
    "\n",
    "        self.convlayers = mySequential(\n",
    "            Conv2d(in_channels=1, out_channels=16, kernel_size=5, stride=1, padding=2, bias=False),\n",
    "            ReLU(),\n",
    "            MaxPool2d(kernel_size=2, stride=2, padding=0),\n",
    "            Conv2d(in_channels=16, out_channels=32, kernel_size=3, stride=1, padding=0, bias=False),\n",
    "            ReLU(),\n",
    "            MaxPool2d(kernel_size=2, stride=2, padding=0)\n",
    "        )\n",
    "        self.flatten = Flatten()\n",
    "        self.hidden_layers = mySequential(\n",
    "            Linear(in_features=1152, out_features=256, bias=True),\n",
    "            ReLU(),\n",
    "        )\n",
    "        self.classifier = Linear(in_features=256, out_features=10, bias=True)\n",
    "        self.sigmoid = Sigmoid()\n",
    "\n",
    "\n",
    "    def forward(self, x):\n",
    "        x = self.convlayers(x)\n",
    "        x = self.flatten(x)\n",
    "        x = self.hidden_layers(x)\n",
    "        x = self.classifier(x)\n",
    "        x = self.sigmoid(x)\n",
    "        return x"
   ]
  },
  {
   "cell_type": "code",
   "execution_count": 8,
   "id": "b7c5fcfc",
   "metadata": {},
   "outputs": [
    {
     "name": "stderr",
     "output_type": "stream",
     "text": [
      "/home/kji/anaconda3/envs/py39_0/lib/python3.9/site-packages/torchvision/datasets/mnist.py:498: UserWarning: The given NumPy array is not writeable, and PyTorch does not support non-writeable tensors. This means you can write to the underlying (supposedly non-writeable) NumPy array using the tensor. You may want to copy the array to protect its data or make it writeable before converting it to a tensor. This type of warning will be suppressed for the rest of this program. (Triggered internally at  /opt/conda/conda-bld/pytorch_1623448255797/work/torch/csrc/utils/tensor_numpy.cpp:180.)\n",
      "  return torch.from_numpy(parsed.astype(m[2], copy=False)).view(*s)\n"
     ]
    }
   ],
   "source": [
    "import tqdm\n",
    "\n",
    "download_path = \"./MNIST_Datset\"\n",
    "train_dataset = MNIST(download_path, train=True, download=True)\n",
    "valid_dataset = MNIST(download_path, train=False, download=True)"
   ]
  },
  {
   "cell_type": "code",
   "execution_count": 9,
   "id": "9c63b17b",
   "metadata": {},
   "outputs": [
    {
     "name": "stderr",
     "output_type": "stream",
     "text": [
      "100%|████████████████████████████████████████████████████████████████████████████████████████| 416/416 [04:26<00:00,  1.56it/s]\n"
     ]
    },
    {
     "name": "stdout",
     "output_type": "stream",
     "text": [
      "0 loss 48.42356527823377 runtime 266.65035 s\n"
     ]
    },
    {
     "name": "stderr",
     "output_type": "stream",
     "text": [
      "100%|██████████████████████████████████████████████████████████████████████████████████████████| 69/69 [00:14<00:00,  4.74it/s]\n"
     ]
    },
    {
     "name": "stdout",
     "output_type": "stream",
     "text": [
      "accuracy 0.6395933977455717\n"
     ]
    },
    {
     "name": "stderr",
     "output_type": "stream",
     "text": [
      "100%|████████████████████████████████████████████████████████████████████████████████████████| 416/416 [04:20<00:00,  1.59it/s]\n"
     ]
    },
    {
     "name": "stdout",
     "output_type": "stream",
     "text": [
      "1 loss 16.388983197939307 runtime 260.86007 s\n"
     ]
    },
    {
     "name": "stderr",
     "output_type": "stream",
     "text": [
      "100%|██████████████████████████████████████████████████████████████████████████████████████████| 69/69 [00:13<00:00,  4.99it/s]\n"
     ]
    },
    {
     "name": "stdout",
     "output_type": "stream",
     "text": [
      "accuracy 0.9772544283413849\n"
     ]
    },
    {
     "name": "stderr",
     "output_type": "stream",
     "text": [
      "100%|████████████████████████████████████████████████████████████████████████████████████████| 416/416 [04:17<00:00,  1.62it/s]\n"
     ]
    },
    {
     "name": "stdout",
     "output_type": "stream",
     "text": [
      "2 loss 2.9591783470741717 runtime 257.33176 s\n"
     ]
    },
    {
     "name": "stderr",
     "output_type": "stream",
     "text": [
      "100%|██████████████████████████████████████████████████████████████████████████████████████████| 69/69 [00:13<00:00,  4.96it/s]\n"
     ]
    },
    {
     "name": "stdout",
     "output_type": "stream",
     "text": [
      "accuracy 0.9848027375201288\n"
     ]
    },
    {
     "name": "stderr",
     "output_type": "stream",
     "text": [
      "100%|████████████████████████████████████████████████████████████████████████████████████████| 416/416 [04:15<00:00,  1.63it/s]\n"
     ]
    },
    {
     "name": "stdout",
     "output_type": "stream",
     "text": [
      "3 loss 2.1102672019009665 runtime 255.97318 s\n"
     ]
    },
    {
     "name": "stderr",
     "output_type": "stream",
     "text": [
      "100%|██████████████████████████████████████████████████████████████████████████████████████████| 69/69 [00:14<00:00,  4.90it/s]\n"
     ]
    },
    {
     "name": "stdout",
     "output_type": "stream",
     "text": [
      "accuracy 0.9876207729468599\n"
     ]
    },
    {
     "name": "stderr",
     "output_type": "stream",
     "text": [
      "100%|████████████████████████████████████████████████████████████████████████████████████████| 416/416 [04:21<00:00,  1.59it/s]\n"
     ]
    },
    {
     "name": "stdout",
     "output_type": "stream",
     "text": [
      "4 loss 1.668815142061275 runtime 261.9394 s\n"
     ]
    },
    {
     "name": "stderr",
     "output_type": "stream",
     "text": [
      "100%|██████████████████████████████████████████████████████████████████████████████████████████| 69/69 [00:13<00:00,  4.95it/s]\n"
     ]
    },
    {
     "name": "stdout",
     "output_type": "stream",
     "text": [
      "accuracy 0.9882246376811594\n"
     ]
    },
    {
     "name": "stderr",
     "output_type": "stream",
     "text": [
      "100%|████████████████████████████████████████████████████████████████████████████████████████| 416/416 [04:19<00:00,  1.60it/s]\n"
     ]
    },
    {
     "name": "stdout",
     "output_type": "stream",
     "text": [
      "5 loss 1.3480917657210432 runtime 259.43162 s\n"
     ]
    },
    {
     "name": "stderr",
     "output_type": "stream",
     "text": [
      "100%|██████████████████████████████████████████████████████████████████████████████████████████| 69/69 [00:13<00:00,  4.99it/s]\n"
     ]
    },
    {
     "name": "stdout",
     "output_type": "stream",
     "text": [
      "accuracy 0.9891304347826086\n"
     ]
    },
    {
     "name": "stderr",
     "output_type": "stream",
     "text": [
      "100%|████████████████████████████████████████████████████████████████████████████████████████| 416/416 [04:15<00:00,  1.63it/s]\n"
     ]
    },
    {
     "name": "stdout",
     "output_type": "stream",
     "text": [
      "6 loss 1.1148642536749822 runtime 255.70601 s\n"
     ]
    },
    {
     "name": "stderr",
     "output_type": "stream",
     "text": [
      "100%|██████████████████████████████████████████████████████████████████████████████████████████| 69/69 [00:13<00:00,  5.05it/s]\n"
     ]
    },
    {
     "name": "stdout",
     "output_type": "stream",
     "text": [
      "accuracy 0.9899355877616747\n"
     ]
    },
    {
     "name": "stderr",
     "output_type": "stream",
     "text": [
      "100%|████████████████████████████████████████████████████████████████████████████████████████| 416/416 [04:12<00:00,  1.65it/s]\n"
     ]
    },
    {
     "name": "stdout",
     "output_type": "stream",
     "text": [
      "7 loss 0.9390467255757072 runtime 252.41598 s\n"
     ]
    },
    {
     "name": "stderr",
     "output_type": "stream",
     "text": [
      "100%|██████████████████████████████████████████████████████████████████████████████████████████| 69/69 [00:13<00:00,  5.08it/s]\n"
     ]
    },
    {
     "name": "stdout",
     "output_type": "stream",
     "text": [
      "accuracy 0.990036231884058\n"
     ]
    },
    {
     "name": "stderr",
     "output_type": "stream",
     "text": [
      "100%|████████████████████████████████████████████████████████████████████████████████████████| 416/416 [03:31<00:00,  1.97it/s]\n"
     ]
    },
    {
     "name": "stdout",
     "output_type": "stream",
     "text": [
      "8 loss 0.7951951725749988 runtime 211.0203 s\n"
     ]
    },
    {
     "name": "stderr",
     "output_type": "stream",
     "text": [
      "100%|██████████████████████████████████████████████████████████████████████████████████████████| 69/69 [00:11<00:00,  5.99it/s]\n"
     ]
    },
    {
     "name": "stdout",
     "output_type": "stream",
     "text": [
      "accuracy 0.9899355877616747\n"
     ]
    },
    {
     "name": "stderr",
     "output_type": "stream",
     "text": [
      "100%|████████████████████████████████████████████████████████████████████████████████████████| 416/416 [03:58<00:00,  1.75it/s]\n"
     ]
    },
    {
     "name": "stdout",
     "output_type": "stream",
     "text": [
      "9 loss 0.6647467722348354 runtime 238.1049 s\n"
     ]
    },
    {
     "name": "stderr",
     "output_type": "stream",
     "text": [
      "100%|██████████████████████████████████████████████████████████████████████████████████████████| 69/69 [00:13<00:00,  4.95it/s]"
     ]
    },
    {
     "name": "stdout",
     "output_type": "stream",
     "text": [
      "accuracy 0.9882246376811594\n"
     ]
    },
    {
     "name": "stderr",
     "output_type": "stream",
     "text": [
      "\n"
     ]
    }
   ],
   "source": [
    "model = my_model()\n",
    "model.to(device=\"cuda:0\")\n",
    "\n",
    "optimizer = Adam(model.parameters(), lr=0.001)\n",
    "criterion = MSELoss()\n",
    "epoch_size = 10\n",
    "batch_size = 144\n",
    "total_size = len(train_dataset)\n",
    "for epoch_i in range(epoch_size):\n",
    "    start_time = time.time()\n",
    "    step_size = int(total_size / batch_size)\n",
    "    loss_sum = []\n",
    "    for step_i in tqdm.tqdm(range(step_size)):\n",
    "        input_data = train_dataset.data[step_i * batch_size:(step_i + 1) * batch_size].numpy().reshape(batch_size,1, 28, 28) /255.\n",
    "        targets = train_dataset.targets[step_i * batch_size:(step_i + 1) * batch_size].numpy()\n",
    "        targets_one_hot = np.eye(10)[targets]\n",
    "\n",
    "        input_data = myTensor(input_data).to(device=\"cuda:0\")\n",
    "        targets = myTensor(targets_one_hot).to(device=\"cuda:0\")\n",
    "\n",
    "        optimizer.zero_grad()\n",
    "        pred = model(input_data)\n",
    "\n",
    "        loss = criterion(pred, targets)\n",
    "        loss.backward()\n",
    "        optimizer.step()\n",
    "\n",
    "        # print(step_i, loss)\n",
    "        loss_sum.append(loss.data)\n",
    "    end_time = time.time()\n",
    "    print(epoch_i, \"loss\", sum(loss_sum) / len(loss_sum), \"runtime\", round(end_time - start_time, 5), 's')\n",
    "\n",
    "    step_size = int(len(valid_dataset.data) / batch_size)\n",
    "\n",
    "    acc_list = []\n",
    "    for step_i in tqdm.tqdm(range(step_size)):\n",
    "        input_data = valid_dataset.data[step_i * batch_size:(step_i + 1) * batch_size].numpy().reshape(batch_size,1, 28, 28) / 255.\n",
    "        targets = valid_dataset.targets[step_i * batch_size:(step_i + 1) * batch_size].numpy()\n",
    "\n",
    "        input_data = myTensor(input_data).to(device=\"cuda:0\")\n",
    "        targets = myTensor(targets).to(device=\"cuda:0\")\n",
    "        pred = model(input_data)\n",
    "        pred_label = myLib.argmax(pred, 1)\n",
    "\n",
    "        correct = (targets == pred_label).numpy()\n",
    "        acc_list.extend(correct)\n",
    "\n",
    "    print(f\"accuracy {np.mean(acc_list)}\")"
   ]
  },
  {
   "cell_type": "code",
   "execution_count": null,
   "id": "579e0897",
   "metadata": {},
   "outputs": [],
   "source": []
  }
 ],
 "metadata": {
  "kernelspec": {
   "display_name": "Python 3 (ipykernel)",
   "language": "python",
   "name": "python3"
  },
  "language_info": {
   "codemirror_mode": {
    "name": "ipython",
    "version": 3
   },
   "file_extension": ".py",
   "mimetype": "text/x-python",
   "name": "python",
   "nbconvert_exporter": "python",
   "pygments_lexer": "ipython3",
   "version": "3.9.5"
  }
 },
 "nbformat": 4,
 "nbformat_minor": 5
}
